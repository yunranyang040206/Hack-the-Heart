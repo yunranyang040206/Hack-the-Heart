{
 "cells": [
  {
   "cell_type": "code",
   "execution_count": 6,
   "metadata": {},
   "outputs": [],
   "source": [
    "import openai"
   ]
  },
  {
   "cell_type": "code",
   "execution_count": 7,
   "metadata": {},
   "outputs": [],
   "source": [
    "api_key = open(\"key.txt\", \"r\").read().strip()"
   ]
  },
  {
   "cell_type": "markdown",
   "metadata": {},
   "source": [
    "Test 1"
   ]
  },
  {
   "cell_type": "code",
   "execution_count": 8,
   "metadata": {},
   "outputs": [
    {
     "name": "stdout",
     "output_type": "stream",
     "text": [
      "role content:  \n",
      " You are a carebot that does pre diagonostic of patients cardiovascular conditions. \n",
      "You are expected to provide the patient with a 300 word informative paragraph about \n",
      "The user will prvide you a range of their cardiovascular data analyzed from a ecg signal. \n",
      "\n",
      "user input:  \n",
      "  bpm: 78.582090\n",
      "ibi: 763.532764\n",
      "sdnn: 151.828064\n",
      "sdsd: 57.335076\n",
      "rmssd: 140.441681\n",
      "pnn20: 1.000000\n",
      "pnn50: 1.000000\n",
      "hr_mad: 102.564103\n",
      "sd1: 67.839777\n",
      "sd2: 117.501941\n",
      "s: 25042.594772\n",
      "sd1/sd2: 0.577350\n",
      "breathingrate: 0.291248\n",
      "\n",
      "Current Cardiovascular Health Condition: Below Average\n",
      "\n"
     ]
    }
   ],
   "source": [
    "with open(\"ROLES/ROLE1.txt\", \"r\") as file:\n",
    "    role_content = file.read()\n",
    "\n",
    "with open(\"USER_INPUT/USER_INPUT1.txt\", \"r\") as file:\n",
    "    user_input = file.read()\n",
    "\n",
    "print('role content: ', '\\n', role_content, '\\n')\n",
    "print('user input: ', '\\n', user_input)"
   ]
  },
  {
   "cell_type": "code",
   "execution_count": 9,
   "metadata": {},
   "outputs": [],
   "source": [
    "from openai import OpenAI\n",
    "client = OpenAI(api_key=api_key)\n",
    "\n",
    "completion = client.chat.completions.create(\n",
    "  model=\"gpt-3.5-turbo\",\n",
    "  messages=[\n",
    "    {\"role\": \"system\", \"content\": role_content},\n",
    "    \n",
    "    {\"role\": \"user\", \"content\": user_input}\n",
    "  ]\n",
    ")                                                        "
   ]
  },
  {
   "cell_type": "code",
   "execution_count": 10,
   "metadata": {},
   "outputs": [
    {
     "name": "stdout",
     "output_type": "stream",
     "text": [
      "Based on the cardiovascular data analyzed from your ECG signal, your heart rate, as indicated by the beats per minute (bpm) of 78.58, falls within a healthy range. Additionally, the SDNN (151.83) and RMSSD (140.44) values suggest good overall heart rate variability, which is an important indicator of cardiovascular health. PNN20 and PNN50 are both at 1.00, indicating that 100% of the RR intervals differ by more than 20ms and 50ms respectively, which is considered normal. The SD1 value of 67.84 and the SD2 value of 117.50 indicate a balanced sympathetic and parasympathetic nervous system activity. The s value of 25042.59 falls within acceptable limits for heart rate variability analysis. The breathing rate of 0.29 is also within a healthy range.\n",
      "\n",
      "Despite these positive indicators, the HR_MAD value of 102.56 falls slightly above the optimal range, suggesting a moderate level of variation in heart rate. Additionally, the below-average overall cardiovascular health condition indicates that there may be room for improvement in certain areas to optimize your heart health.\n",
      "\n",
      "It is important to continue monitoring these cardiovascular parameters regularly and consult with a healthcare provider for further evaluation and personalized recommendations. Making lifestyle changes such as maintaining a healthy diet, staying physically active, managing stress, and avoiding tobacco can all contribute to improving your cardiovascular health. Remember, early detection and proactive management are key to preventing potential cardiovascular issues in the future.\n"
     ]
    }
   ],
   "source": [
    "print(completion.choices[0].message.content)\n",
    "\n",
    "with open('final_print.txt', 'a') as file:\n",
    "    # Write new content at the end of the file\n",
    "    file.write(completion.choices[0].message.content)"
   ]
  },
  {
   "cell_type": "code",
   "execution_count": null,
   "metadata": {},
   "outputs": [],
   "source": []
  }
 ],
 "metadata": {
  "kernelspec": {
   "display_name": "openai-env",
   "language": "python",
   "name": "python3"
  },
  "language_info": {
   "codemirror_mode": {
    "name": "ipython",
    "version": 3
   },
   "file_extension": ".py",
   "mimetype": "text/x-python",
   "name": "python",
   "nbconvert_exporter": "python",
   "pygments_lexer": "ipython3",
   "version": "3.11.4"
  }
 },
 "nbformat": 4,
 "nbformat_minor": 2
}
