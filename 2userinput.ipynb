{
 "cells": [
  {
   "cell_type": "code",
   "execution_count": 6,
   "metadata": {},
   "outputs": [],
   "source": [
    "import tkinter as tk\n",
    "from tkinter import simpledialog, messagebox\n",
    "\n",
    "class CustomDialog(tk.Toplevel):\n",
    "    def __init__(self, parent):\n",
    "        super().__init__(parent)\n",
    "        self.title(\"Basic Information Form\")\n",
    "        self.age = -1\n",
    "        self.sex = -1\n",
    "\n",
    "        # Question 1: Integer input\n",
    "        self.lbl1 = tk.Label(self, text=\"Please enter your age (18-150):\")\n",
    "        self.lbl1.grid(row=0, column=0, padx=5, pady=5)\n",
    "        self.int_var = tk.IntVar()\n",
    "        self.int_entry = tk.Entry(self, textvariable=self.int_var)\n",
    "        self.int_entry.grid(row=0, column=1, padx=5, pady=5)\n",
    "\n",
    "        # Question 2: Multiple choice\n",
    "        self.lbl2 = tk.Label(self, text=\"Please indicate your sex:\")\n",
    "        self.lbl2.grid(row=1, column=0, padx=5, pady=5)\n",
    "        self.choice_var = tk.StringVar()\n",
    "        self.option1 = tk.Radiobutton(self, text=\"Female\", variable=self.choice_var, value= 0)\n",
    "        self.option1.grid(row=1, column=1, sticky=\"w\")\n",
    "        self.option2 = tk.Radiobutton(self, text=\"Male\", variable=self.choice_var, value= 1)\n",
    "        self.option2.grid(row=2, column=1, sticky=\"w\")\n",
    "\n",
    "        # Submit button\n",
    "        self.submit_btn = tk.Button(self, text=\"Submit Response\", command=self.validate_input)\n",
    "        self.submit_btn.grid(row=3, column=1, sticky=\"e\", padx=5, pady=5)\n",
    "\n",
    "    def validate_input(self):\n",
    "        # Validate integer input\n",
    "        int_value = self.int_var.get()\n",
    "        if int_value < 0 or int_value > 200:\n",
    "            messagebox.showerror(\"Invalid Input\", \"Please enter a number between 0 and 200.\")\n",
    "            return\n",
    "        # Retrieve multiple choice selection\n",
    "        choice_value = self.choice_var.get()\n",
    "        if not choice_value:\n",
    "            messagebox.showerror(\"Invalid Choice\", \"Please select an option.\")\n",
    "            return\n",
    "\n",
    "        # If validation passes, print values and destroy dialog\n",
    "        self.age = int_value\n",
    "        self.sex = choice_value\n",
    "        self.destroy()\n",
    "\n",
    "# Create a new Tkinter application\n",
    "root = tk.Tk()\n",
    "root.withdraw()  # Hide the main window\n",
    "\n",
    "# Create and show the dialog\n",
    "dialog = CustomDialog(root)\n",
    "root.wait_window(dialog)\n",
    "\n",
    "age = dialog.age\n",
    "sex = dialog.sex\n",
    "# Cleanup the root window\n",
    "root.destroy()\n"
   ]
  },
  {
   "cell_type": "code",
   "execution_count": 9,
   "metadata": {},
   "outputs": [],
   "source": [
    "file_name = 'patient_info'\n",
    "with open(file_name, 'w') as file:\n",
    "    # Write the variable value to the first line\n",
    "    file.write(str(age) + '\\n')\n",
    "    # Write the file name to the second line\n",
    "    file.write(str(sex))"
   ]
  }
 ],
 "metadata": {
  "kernelspec": {
   "display_name": "openai-env",
   "language": "python",
   "name": "python3"
  },
  "language_info": {
   "codemirror_mode": {
    "name": "ipython",
    "version": 3
   },
   "file_extension": ".py",
   "mimetype": "text/x-python",
   "name": "python",
   "nbconvert_exporter": "python",
   "pygments_lexer": "ipython3",
   "version": "3.11.4"
  }
 },
 "nbformat": 4,
 "nbformat_minor": 2
}
