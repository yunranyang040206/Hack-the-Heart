{
 "cells": [
  {
   "cell_type": "code",
   "execution_count": 1,
   "metadata": {},
   "outputs": [
    {
     "name": "stdout",
     "output_type": "stream",
     "text": [
      "18 0 78\n",
      "Below Average\n"
     ]
    }
   ],
   "source": [
    "def rate_my_heart(age, sex, bpm):\n",
    "     if sex == 0:\n",
    "          for a in age_dic_F.keys():\n",
    "               if age >= a:\n",
    "                    for i in range(6):\n",
    "                         bpm_list = age_dic_F[a]\n",
    "                         if bpm < bpm_list[i]:\n",
    "                              return list_of_condition[i]\n",
    "          return \"Poor\"\n",
    "     if sex == 1:\n",
    "          for a in age_dic_M.keys():\n",
    "               if age >= a:\n",
    "                    for i in range(6):\n",
    "                         bpm_list = age_dic_M[a]\n",
    "                         if bpm < bpm_list[i]:\n",
    "                              return list_of_condition[i]\n",
    "          return \"Poor\"\n",
    "\n",
    "\n",
    "age_dic_M = {65: [55, 61, 65, 69, 73, 79],\n",
    "56: [56, 61, 67, 71, 75, 81],\n",
    "46: [54, 63, 67, 71, 76, 83],\n",
    "36: [53, 62, 66, 70, 75, 82],\n",
    "26: [50, 61, 65, 70, 74, 81],\n",
    "18: [52, 61, 65, 69, 73, 81]}\n",
    "\n",
    "age_dic_F = {65: [55, 64, 68, 72, 76, 84],\n",
    "56: [55, 64, 68, 73, 77, 83],\n",
    "46: [54, 65, 69, 73, 77, 83],\n",
    "36: [49, 64, 69, 73, 78, 84],\n",
    "26: [46, 64, 68, 72, 76, 82],\n",
    "18: [48, 65, 69, 73, 78, 84]}\n",
    "\n",
    "list_of_condition = [\"Athlete\", \"Excellent\", \"Good\", \"Above Average\", \"Average\", \"Below Average\"]\n",
    "\n",
    "\n",
    "\n",
    "\n",
    "with open('patient_info.txt', 'r') as file:\n",
    "    age = file.readline().strip()\n",
    "    sex = file.readline().strip()\n",
    "    bpm = file.readline().strip()\n",
    "    print(age, sex, bpm)\n",
    "\n",
    "condition = rate_my_heart(int(age), int(sex), int(bpm))\n",
    "print(condition)\n",
    "\n",
    "with open(\"final_print.txt\", 'w') as file:\n",
    "    # Write the variable value to the first line\n",
    "    file.write('\\n' + 'Current Cardiovascular Health Condition: '+ condition + '\\n')\n",
    "    # Write the file name to the second line\n",
    "\n",
    "with open(\"USER_INPUT/USER_INPUT1.txt\", 'a') as file:\n",
    "    # Write the variable value to the first line\n",
    "    file.write('\\n' + 'Current Cardiovascular Health Condition: '+ condition + '\\n')\n",
    "    # Write the file name to the second line"
   ]
  }
 ],
 "metadata": {
  "kernelspec": {
   "display_name": "openai-env",
   "language": "python",
   "name": "python3"
  },
  "language_info": {
   "codemirror_mode": {
    "name": "ipython",
    "version": 3
   },
   "file_extension": ".py",
   "mimetype": "text/x-python",
   "name": "python",
   "nbconvert_exporter": "python",
   "pygments_lexer": "ipython3",
   "version": "3.11.4"
  }
 },
 "nbformat": 4,
 "nbformat_minor": 2
}
